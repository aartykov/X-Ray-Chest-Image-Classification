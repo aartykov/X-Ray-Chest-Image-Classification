{
  "nbformat": 4,
  "nbformat_minor": 0,
  "metadata": {
    "accelerator": "GPU",
    "colab": {
      "name": "Copy of Models.ipynb",
      "provenance": [],
      "collapsed_sections": [],
      "machine_shape": "hm"
    },
    "kernelspec": {
      "display_name": "Python 3",
      "name": "python3"
    }
  },
  "cells": [
    {
      "cell_type": "code",
      "metadata": {
        "id": "lb_omjJt-imH"
      },
      "source": [
        "#! pip install albumentations==0.4.6\n",
        "\n",
        "\n",
        "#from collections import defaultdict\n",
        "#import copy\n",
        "import random\n",
        "import os\n",
        "#import shutil\n",
        "#from urllib.request import urlretrieve\n",
        "\n",
        "'''\n",
        "import albumentations as A\n",
        "import albumentations.augmentations.functional as F\n",
        "from albumentations.pytorch.transforms  import ToTensorV2\n",
        "import cv2\n",
        "import matplotlib.pyplot as plt\n",
        "import numpy as np\n",
        "#import ternausnet.models\n",
        "from tqdm import tqdm\n",
        "import torch\n",
        "import torch.backends.cudnn as cudnn\n",
        "import torch.nn as nn\n",
        "import torch.optim\n",
        "from torch.utils.data import Dataset, DataLoader\n",
        "import torchvision\n",
        "%load_ext tensorboard\n",
        "import torch.nn.functional as f\n",
        "cudnn.benchmark = True\n",
        "#torch.cuda.empty_cache()\n",
        "'''\n",
        "\n",
        "\n",
        "\n",
        "! pip install -q kaggle\n",
        "from google.colab import files\n",
        "files.upload()\n",
        "! mkdir ~/.kaggle\n",
        "! cp kaggle.json ~/.kaggle/\n",
        "! chmod 600 ~/.kaggle/kaggle.json"
      ],
      "execution_count": null,
      "outputs": []
    },
    {
      "cell_type": "code",
      "metadata": {
        "id": "eU6vBRLiAhH0"
      },
      "source": [
        "import zipfile\n",
        "zf = \"../coronahack-chest-xraydataset.zip\"\n",
        "target_dir = \"../Dataset\"\n",
        "zfile = zipfile.ZipFile(zf)\n",
        "zfile.extractall(target_dir)"
      ],
      "execution_count": null,
      "outputs": []
    },
    {
      "cell_type": "code",
      "metadata": {
        "id": "BAGbdDB5DG2f"
      },
      "source": [
        "import matplotlib.pyplot as plt \n",
        "import numpy as np              \n",
        "import pandas as pd   \n",
        "import torchvision.transforms as transforms\n",
        "\n",
        "#Define Directories for train, test & Validation Set\n",
        "train_path = '../Dataset/Coronahack-Chest-XRay-Dataset/Coronahack-Chest-XRay-Dataset/train'\n",
        "test_path = '../Dataset/Coronahack-Chest-XRay-Dataset/Coronahack-Chest-XRay-Dataset/test'\n",
        "\n",
        "\n",
        "batch_size = 16 \n",
        "\n",
        "img_width = 500"
      ],
      "execution_count": null,
      "outputs": []
    },
    {
      "cell_type": "markdown",
      "metadata": {
        "id": "3FHsILoyyf9U"
      },
      "source": [
        "Import Useful Libraries"
      ]
    },
    {
      "cell_type": "code",
      "metadata": {
        "id": "_Ui5xwKJyCQf"
      },
      "source": [
        "import random\n",
        "import os\n",
        "import cv2\n",
        "import torch\n",
        "import numpy as np\n",
        "import pandas as pd\n",
        "import torchvision.transforms as transforms\n",
        "from torch.utils.data import Dataset, DataLoader\n",
        "import torch.nn as nn\n",
        "from PIL import Image\n",
        "from torchsummary import summary\n",
        "import matplotlib.pyplot as plt\n",
        "from sklearn.metrics import confusion_matrix\n",
        "from sklearn.metrics import classification_report\n",
        "import seaborn as sns\n",
        "import torchvision"
      ],
      "execution_count": null,
      "outputs": []
    },
    {
      "cell_type": "markdown",
      "metadata": {
        "id": "6VLhRCH2QyXz"
      },
      "source": [
        "Split Training Dataset into Train and Validation"
      ]
    },
    {
      "cell_type": "code",
      "metadata": {
        "colab": {
          "base_uri": "https://localhost:8080/"
        },
        "id": "JeU_0bZt-nPt",
        "outputId": "cb36136c-e659-40b5-9d4b-bbe0d3b7b72a"
      },
      "source": [
        "# Files paths\n",
        "#train_path = './Dataset/Coronahack-Chest-XRay-Dataset/Coronahack-Chest-XRay-Dataset/train'\n",
        "#test_path = './Dataset/Coronahack-Chest-XRay-Dataset/Coronahack-Chest-XRay-Dataset/test'\n",
        "meta_file_dir = './Dataset/Chest_xray_Corona_Metadata.csv'\n",
        "\n",
        "missed = []\n",
        "data_path = './Dataset/Tr_Test_Data'\n",
        "data_images_filenames = set(os.listdir(data_path))\n",
        "# Remove missed data from dataset\n",
        "meta_data = pd.read_csv(meta_file_dir, usecols=['X_ray_image_name', 'Label', 'Label_2_Virus_category', 'Label_1_Virus_category'])    # Read the meta_data csv file\n",
        "meta_names = meta_data.X_ray_image_name.to_list()                               # List of image names  \n",
        "for image_name in data_images_filenames:                                        # Apply this for all data\n",
        "    if image_name not in meta_names:                                            # Check whether image name is in meta file\n",
        "      missed.append(image_name)\n",
        "\n",
        "data_images_filenames = sorted(list(data_images_filenames))\n",
        "for i in missed:\n",
        "  data_images_filenames.remove(i)\n",
        "\n",
        "# PREPARE THE LABELS FOR EACH CLASS\n",
        "data_df = pd.read_csv(meta_file_dir)\n",
        "data_df['Label_2_Virus_category'].fillna('NA', inplace=True)                    # Fill nan values with 'NA' in csv file\n",
        "# Get indexes of each case\n",
        "idx_normal = data_df[data_df['Label'] == 'Normal'].index                        \n",
        "idx_ards = data_df[data_df['Label_2_Virus_category'] == 'ARDS'].index\n",
        "idx_covid = data_df[data_df['Label_2_Virus_category'] == 'COVID-19'].index\n",
        "idx_sars = data_df[data_df['Label_2_Virus_category'] == 'SARS'].index\n",
        "idx_streptococcus = data_df[data_df['Label_2_Virus_category'] == 'Streptococcus'].index\n",
        "idx_virus_NaN = data_df[(data_df['Label_1_Virus_category'] == 'Virus') & (data_df['Label_2_Virus_category'] == 'NA')].index\n",
        "idx_bacteria_NaN = data_df[(data_df['Label_1_Virus_category'] == 'bacteria') & (data_df['Label_2_Virus_category'] == 'NA')].index\n",
        "\n",
        "# Get image names of specified indexes, obtain list of image names, obtain dict of image names with corresponding labels\n",
        "normal_case = data_df['X_ray_image_name'][idx_normal]\n",
        "normal_case = normal_case.to_list()\n",
        "normal_case = {normal_case[i]:0 for i in range(len(normal_case))}\n",
        "\n",
        "# Merge viruses into one category\n",
        "covid_case = data_df['X_ray_image_name'][idx_covid]\n",
        "covid_case = covid_case.to_list()\n",
        "sars_case = data_df['X_ray_image_name'][idx_sars]\n",
        "sars_case = sars_case.to_list()\n",
        "virus_nan = data_df['X_ray_image_name'][idx_virus_NaN]\n",
        "virus_nan = virus_nan.to_list()\n",
        "viruses = covid_case + sars_case + virus_nan\n",
        "virus = {viruses[i]:1 for i in range(len(viruses))}\n",
        "\n",
        "# Merge bacterias into one category\n",
        "bacteria_nan = data_df['X_ray_image_name'][idx_bacteria_NaN]\n",
        "bacteria_nan = bacteria_nan.to_list()\n",
        "streptococcus_case = data_df['X_ray_image_name'][idx_streptococcus]\n",
        "streptococcus_case = streptococcus_case.to_list()\n",
        "bacterias = bacteria_nan + streptococcus_case\n",
        "bacteria = {bacterias[i]:2 for i in range(len(bacterias))}\n",
        "\n",
        "ards_case = data_df['X_ray_image_name'][idx_ards]\n",
        "ards_case = ards_case.to_list()\n",
        "\n",
        "\n",
        "# Merge all the dictinaries into one dict\n",
        "labelled_data = {**normal_case, **virus, **bacteria}\n",
        "\n",
        "# Remove ards case from dataset\n",
        "for i in ards_case:\n",
        "  data_images_filenames.remove(i)\n",
        "\n",
        "# Randomly create train/val/test dataset\n",
        "random.seed(42)\n",
        "random.shuffle(data_images_filenames)                        # Shuffle all the images in order to randmoly create train/val/test dataset\n",
        "\n",
        "train_images_filenames = data_images_filenames[:4726]        # 80% train images\n",
        "val_images_filenames = data_images_filenames[4726:-591]      # 10% val images \n",
        "test_images_filenames = data_images_filenames[-591:]         # 10% test images\n",
        "\n",
        "\n",
        "\n",
        "\n",
        "print(len(train_images_filenames), len(val_images_filenames), len(test_images_filenames))\n",
        "print(len(missed), len(data_images_filenames), len(meta_names))"
      ],
      "execution_count": null,
      "outputs": [
        {
          "output_type": "stream",
          "text": [
            "4726 591 591\n",
            "23 5908 5910\n"
          ],
          "name": "stdout"
        }
      ]
    },
    {
      "cell_type": "markdown",
      "metadata": {
        "id": "xp4TFlNTPpco"
      },
      "source": [
        "Dataset Preparation"
      ]
    },
    {
      "cell_type": "code",
      "metadata": {
        "id": "DWnRGbFu-t2V"
      },
      "source": [
        "class ChestDataset(Dataset):\n",
        "    def __init__(self, images_filenames, images_directory, labelled_data, transform=None):\n",
        "        self.images_filenames = images_filenames\n",
        "        self.images_directory = images_directory \n",
        "        self.labelled_data = labelled_data\n",
        "        self.transform = transform\n",
        "\n",
        "    def __len__(self):\n",
        "        return len(self.images_filenames)\n",
        "\n",
        "    def __getitem__(self, idx):\n",
        "        image_name = self.images_filenames[idx]\n",
        "        #image = cv2.imread(os.path.join(self.images_directory, image_name), cv2.IMREAD_GRAYSCALE)     \n",
        "        image = Image.open(os.path.join(self.images_directory, image_name))     # Read an image as PIL image\n",
        "        image = image.convert(\"RGB\")\n",
        "        label = self.labelled_data[image_name]\n",
        "           \n",
        "        if self.transform is not None:\n",
        "            image = self.transform(image)\n",
        "            \n",
        "        return image, torch.tensor(label)\n",
        "\n",
        "\n",
        "\n",
        "# Transformations\n",
        "train_transforms = transforms.Compose([\n",
        "                                                         # Convert the images into grayscale\n",
        "                                  transforms.Resize((224,224)),\n",
        "                                  #transforms.RandomCrop((225,225)),\n",
        "                                  transforms.ColorJitter(),\n",
        "                                  transforms.RandomRotation(degrees=25),\n",
        "                                  transforms.RandomHorizontalFlip(p=0.5),\n",
        "                                  #transforms.RandomVerticalFlip(p=0.5),\n",
        "                                  transforms.ToTensor(),\n",
        "                                  transforms.Normalize([0.485, 0.456, 0.406], [0.229, 0.224, 0.225])            # Be sure of these values!!!                          \n",
        "])\n",
        "\n",
        "# Augmentation is not applied to the validation dataset\n",
        "validation_transforms = transforms.Compose([\n",
        "                                            transforms.Resize((224,224)),\n",
        "                                            transforms.ToTensor(),\n",
        "                                            transforms.Normalize([0.485, 0.456, 0.406], [0.229, 0.224, 0.225])\n",
        "])\n",
        "\n",
        "test_transforms = transforms.Compose([\n",
        "                                      transforms.Resize((224,224)),\n",
        "                                      transforms.ToTensor(),\n",
        "                                      transforms.Normalize([0.485, 0.456, 0.406], [0.229, 0.224, 0.225])                    \n",
        "])\n",
        "\n",
        "# Create datasets\n",
        "train_dataset = ChestDataset(train_images_filenames, data_path, labelled_data, transform=train_transforms)\n",
        "validation_dataset = ChestDataset(val_images_filenames, data_path, labelled_data, transform=validation_transforms)\n",
        "test_dataset = ChestDataset(test_images_filenames, data_path, labelled_data, transform=test_transforms)"
      ],
      "execution_count": null,
      "outputs": []
    },
    {
      "cell_type": "code",
      "metadata": {
        "id": "UWb38K_u3xis"
      },
      "source": [
        "import pandas as pd\n",
        "meta_file_dir = './Dataset/Chest_xray_Corona_Metadata.csv'\n",
        "#tr_data = './Dataset/Coronahack-Chest-XRay-Dataset/Coronahack-Chest-XRay-Dataset/train'\n",
        "\n",
        "data_path = './Dataset/Tr_Test_Data'\n",
        "data_images_filenames = set(os.listdir(data_path))\n",
        "missed_tr = []\n",
        "meta_data = pd.read_csv(meta_file_dir, usecols=['X_ray_image_name', 'Label', 'Label_2_Virus_category', 'Label_1_Virus_category'])    # Read the meta_data csv file\n",
        "meta_names = sorted(meta_data.X_ray_image_name.to_list())                               # List of image names  \n",
        "for image_name in data_images_filenames:                                        # Apply this for all data\n",
        "    if image_name not in meta_names:                                            # Check whether image name is in meta file\n",
        "      #data_images_filenames.remove(image_name)\n",
        "      missed_tr.append(image_name)\n",
        "data_images_filenames = sorted(list(data_images_filenames))\n",
        "for i in missed_tr:\n",
        "  data_images_filenames.remove(i)\n",
        "\n",
        "\n",
        "data_df = pd.read_csv(meta_file_dir)\n",
        "data_df['Label_2_Virus_category'].fillna('NA', inplace=True)\n",
        "Normal_data = [data_df['Label'] == 'Normal']\n",
        "\n",
        "idx_normal = data_df[data_df['Label'] == 'Normal'].index\n",
        "\n",
        "idx_ards = data_df[data_df['Label_2_Virus_category'] == 'ARDS'].index\n",
        "idx_covid = data_df[data_df['Label_2_Virus_category'] == 'COVID-19'].index\n",
        "idx_sars = data_df[data_df['Label_2_Virus_category'] == 'SARS'].index\n",
        "idx_streptococcus = data_df[data_df['Label_2_Virus_category'] == 'Streptococcus'].index\n",
        "idx_virus_NaN = data_df[(data_df['Label_1_Virus_category'] == 'Virus') & (data_df['Label_2_Virus_category'] == 'NA')].index\n",
        "idx_bacteria_NaN = data_df[(data_df['Label_1_Virus_category'] == 'bacteria') & (data_df['Label_2_Virus_category'] == 'NA')].index\n",
        "normal_case = data_df['X_ray_image_name'][idx_normal]"
      ],
      "execution_count": null,
      "outputs": []
    },
    {
      "cell_type": "code",
      "metadata": {
        "id": "-oPsJShR4Ody"
      },
      "source": [
        "normal_case = normal_case.to_list()\n",
        "normal_case = {normal_case[i]:0 for i in range(len(normal_case))}\n",
        "\n",
        "ards_case = data_df['X_ray_image_name'][idx_ards]\n",
        "ards_case = ards_case.to_list()\n",
        "ards_case = {ards_case[i]:1 for i in range(len(ards_case))}\n",
        "\n",
        "covid_case = data_df['X_ray_image_name'][idx_covid]\n",
        "covid_case = covid_case.to_list()\n",
        "covid_case = {covid_case[i]:3 for i in range(len(covid_case))}\n",
        "\n",
        "sars_case = data_df['X_ray_image_name'][idx_sars]\n",
        "sars_case = sars_case.to_list()\n",
        "sars_case = {sars_case[i]:4 for i in range(len(sars_case))}\n",
        "\n",
        "streptococcus_case = data_df['X_ray_image_name'][idx_streptococcus]\n",
        "streptococcus_case = streptococcus_case.to_list()\n",
        "streptococcus_case = {streptococcus_case[i]:6 for i in range(len(streptococcus_case))}\n",
        "\n",
        "virus_nan = data_df['X_ray_image_name'][idx_virus_NaN]\n",
        "virus_nan = virus_nan.to_list()\n",
        "virus_nan = {virus_nan[i]:2 for i in range(len(virus_nan))}\n",
        "\n",
        "bacteria_nan = data_df['X_ray_image_name'][idx_bacteria_NaN]\n",
        "bacteria_nan = bacteria_nan.to_list()\n",
        "bacteria_nan = {bacteria_nan[i]:5 for i in range(len(bacteria_nan))}\n",
        "\n",
        "labelled_data = {**normal_case, **ards_case, **virus_nan, **covid_case, **sars_case, **bacteria_nan, **streptococcus_case}"
      ],
      "execution_count": null,
      "outputs": []
    },
    {
      "cell_type": "markdown",
      "metadata": {
        "id": "W_6QdM6m7y6g"
      },
      "source": [
        "###Models"
      ]
    },
    {
      "cell_type": "markdown",
      "metadata": {
        "id": "UHvvAGrNhux8"
      },
      "source": [
        "Simple Model(Corona Net)"
      ]
    },
    {
      "cell_type": "code",
      "metadata": {
        "colab": {
          "base_uri": "https://localhost:8080/"
        },
        "id": "lE0yAZ2Q7xhO",
        "outputId": "c6d0fc60-01bc-4931-fdfa-9e3c1255e319"
      },
      "source": [
        "def init_weights(m):\n",
        "    if type(m) == nn.Conv2d or type(m) == nn.Linear:\n",
        "        torch.nn.init.kaiming_normal_(m.weight)\n",
        "        m.bias.data.fill_(0.0)\n",
        "\n",
        "\n",
        "\n",
        "#double 3x3 convolutions \n",
        "def dual_conv(in_channel, out_channel):\n",
        "    conv = nn.Sequential(\n",
        "        nn.Conv2d(in_channel, out_channel, kernel_size=3,padding=1),  # padding=1 was added\n",
        "        nn.BatchNorm2d(out_channel),\n",
        "        nn.ReLU(),                                                    # inplace= True ---> Can be used as well.\n",
        "        nn.Dropout(p=0.8),\n",
        "        nn.Conv2d(out_channel, out_channel, kernel_size=3, padding=1),\n",
        "        nn.BatchNorm2d(out_channel),\n",
        "        nn.ReLU()\n",
        "            )\n",
        "    conv.apply(init_weights)\n",
        "    return conv\n",
        "\n",
        "\n",
        "class Corona_Net(nn.Module):\n",
        "  def __init__(self, in_channel=1, out_channel=32):\n",
        "    super(Corona_Net, self).__init__()\n",
        "\n",
        "    self.conv = nn.Sequential(\n",
        "        nn.Conv2d(in_channel, out_channel, kernel_size=3),\n",
        "        nn.ReLU(inplace=True),\n",
        "        nn.BatchNorm2d(out_channel),\n",
        "        #nn.Dropout2d(p=0.1, inplace=False),\n",
        "        #nn.MaxPool2d(kernel_size=2,stride=2),            #\n",
        "        nn.Conv2d(out_channel, out_channel, kernel_size=3),\n",
        "        nn.ReLU(inplace=True),\n",
        "        nn.BatchNorm2d(out_channel),\n",
        "        #nn.Dropout2d(p=0.1, inplace=False),\n",
        "        nn.MaxPool2d(kernel_size=2,stride=2),\n",
        "        nn.Conv2d(out_channel, out_channel, kernel_size=3),\n",
        "        nn.ReLU(inplace=True),\n",
        "        nn.BatchNorm2d(out_channel),\n",
        "        #nn.Dropout2d(p=0.2, inplace=False),\n",
        "        #nn.MaxPool2d(kernel_size=2,stride=2),            #\n",
        "        nn.Conv2d(out_channel, 64, kernel_size=3),\n",
        "        nn.ReLU(inplace=True),\n",
        "        nn.BatchNorm2d(64),\n",
        "        #nn.Dropout2d(p=0.3, inplace=False),\n",
        "        nn.MaxPool2d(kernel_size=2,stride=2),\n",
        "        nn.Conv2d(64, 64, kernel_size=3),\n",
        "        nn.ReLU(inplace=True),\n",
        "        nn.BatchNorm2d(64),\n",
        "        #nn.Dropout2d(p=0.4, inplace=False),\n",
        "        #nn.MaxPool2d(kernel_size=2,stride=2),            #\n",
        "        nn.Conv2d(64, 128, kernel_size=3),\n",
        "        nn.ReLU(inplace=True),\n",
        "        nn.BatchNorm2d(128),\n",
        "        nn.MaxPool2d(kernel_size=2,stride=2)\n",
        "    )\n",
        "    self.conv.apply(init_weights)\n",
        "\n",
        "    \n",
        "    \n",
        "    self.linear = nn.Sequential(\n",
        "        nn.Linear(128*5*5,128),\n",
        "        nn.ReLU(inplace=True),\n",
        "        nn.Linear(128, 7) )                         # The number of classes is 7\n",
        "    self.linear.apply(init_weights)\n",
        "  \n",
        "  def forward(self, image):\n",
        "    \n",
        "    out = self.conv(image)\n",
        "\n",
        "    out = out.view(-1, 128*5*5)                    # Flattening the conv output\n",
        "\n",
        "    out = self.linear(out)\n",
        "\n",
        "    return out\n",
        "\n",
        "\n",
        "if __name__ == '__main__':\n",
        "    image = torch.rand((1, 1, 500, 500))\n",
        "    model = Corona_Net()\n",
        "    print(model(image).size())\n",
        "  \n",
        "    #summary(model, (1,500,500))\n",
        "\n",
        "\n",
        "\n",
        "\n",
        "\n"
      ],
      "execution_count": null,
      "outputs": [
        {
          "output_type": "stream",
          "text": [
            "torch.Size([1, 7])\n"
          ],
          "name": "stdout"
        }
      ]
    },
    {
      "cell_type": "markdown",
      "metadata": {
        "id": "Ac0cV1wrh3wf"
      },
      "source": [
        "Corona_ResNet"
      ]
    },
    {
      "cell_type": "markdown",
      "metadata": {
        "id": "sjQoFe89BVcx"
      },
      "source": [
        "ResNet18"
      ]
    },
    {
      "cell_type": "code",
      "metadata": {
        "id": "EHvTfR6nBX4-"
      },
      "source": [
        "import torchvision\n",
        "\n",
        "def freeze_some_parameters(model):\n",
        "\n",
        "  for i, child in enumerate(model):\n",
        "    if i < 6:                     # Set the ith layer and freeze all the layers up to the ith layer\n",
        "      for param in child.parameters():\n",
        "        param.requires_grad = False\n",
        "\n",
        "resnet = torchvision.models.resnet18(pretrained=True)\n",
        "num_filters = resnet.fc.in_features\n",
        "resnet.fc = nn.Linear(num_filters, 3)\n",
        "#vgg.features._modules[\"0\"] = nn.Conv2d(1, 64, kernel_size=(3, 3), stride=(1, 1), padding=(1, 1))\n",
        "model_layers = list(resnet.children())\n",
        "freeze_some_parameters(model_layers)\n",
        "\n",
        "if __name__ == '__main__':\n",
        "    image = torch.rand((1, 3, 500, 500))\n",
        "    model = resnet\n",
        "    #print(model(image).size())\n",
        "model_layers[7]"
      ],
      "execution_count": null,
      "outputs": []
    },
    {
      "cell_type": "markdown",
      "metadata": {
        "id": "S7JE_dweXKM8"
      },
      "source": [
        "###Train and Evaluate"
      ]
    },
    {
      "cell_type": "code",
      "metadata": {
        "id": "k2O1ClgK-4li"
      },
      "source": [
        "def train(train_loader, model, criterion, optimizer, epoch, params):\n",
        "    \n",
        "    model.train()\n",
        "    running_loss = 0.0\n",
        "    total = 0.\n",
        "    correct = 0.\n",
        "    for i, (images, target) in enumerate(train_loader):\n",
        "        images = images.to(params[\"device\"], non_blocking=True)\n",
        "        target = target.to(params[\"device\"], non_blocking=True)\n",
        "        output = model(images)\n",
        "        loss = criterion(output, target)\n",
        "        #loss = loss_with_reg(output, target, model, criterion)                             # L2 Regularization\n",
        "        \n",
        "        #del output, images, target  \n",
        "        \n",
        "        running_loss += float(loss.item()) * images.size(0)            # loss.item() returns the average loss for each sample within the batch\n",
        "        _, predicted = torch.max(output.data, 1)\n",
        "        total += target.size(0)\n",
        "        correct += (predicted==target).sum().item()\n",
        "        optimizer.zero_grad()\n",
        "        loss.backward()\n",
        "        optimizer.step()\n",
        "        \n",
        "        writer.add_scalar('training loss',\n",
        "                            running_loss / len(train_loader.dataset), epoch)\n",
        "        \n",
        "    epoch_acc = 100 * correct / total      \n",
        "    epoch_loss = running_loss / len(train_loader.dataset)\n",
        "    print('Epoch: {}, Tr_Loss: {}, Tr_Acc: {}'.format(epoch, epoch_loss, epoch_acc))\n",
        "    return epoch_loss, epoch_acc "
      ],
      "execution_count": null,
      "outputs": []
    },
    {
      "cell_type": "code",
      "metadata": {
        "id": "Wp95-bzF-7R1"
      },
      "source": [
        "def validate(val_loader, model, criterion, epoch, params):\n",
        "    \n",
        "    model.eval()\n",
        "    \n",
        "    running_loss = 0.0\n",
        "    total = 0.\n",
        "    correct = 0.\n",
        "    with torch.no_grad():\n",
        "        for i, (images, target) in enumerate(val_loader):\n",
        "            images = images.to(params[\"device\"], non_blocking=True)\n",
        "            target = target.to(params[\"device\"], non_blocking=True)\n",
        "            output = model(images)\n",
        "            loss = criterion(output, target)\n",
        "            #loss = loss_with_reg(output, target, model, criterion)                         # L2 Regularization\n",
        "            #del output, images, target \n",
        "            \n",
        "            running_loss += float(loss.item()) * images.size(0)                 # val_loader.batch_size\n",
        "            _, predicted = torch.max(output.data, 1)\n",
        "            total += target.size(0)\n",
        "            correct += (predicted==target).sum().item()            \n",
        "            writer.add_scalar('validation loss', \n",
        "                            running_loss / len(val_loader.dataset), epoch)\n",
        "            \n",
        "    epoch_loss = running_loss / len(val_loader.dataset)\n",
        "    \n",
        "    epoch_acc = 100 * correct / total\n",
        "    print('Epoch: {}, Val_Loss: {}, Val_Acc: {}'.format(epoch, epoch_loss, epoch_acc))\n",
        "    return epoch_loss, epoch_acc "
      ],
      "execution_count": null,
      "outputs": []
    },
    {
      "cell_type": "code",
      "metadata": {
        "id": "Np4hIQpC_ANu"
      },
      "source": [
        "def create_model(params):\n",
        "    model = params[\"model\"]  \n",
        "    model = model.to(params[\"device\"])\n",
        "    return model\n",
        "\n",
        "'''\n",
        "# Custom collate_fn function\n",
        "def collate_fn(data):\n",
        "    res = tuple(zip(*data))\n",
        "    #print(res[0][0].shape, res[1][0].shape)\n",
        "    return res\n",
        "'''\n",
        "\n",
        "'''\n",
        "# Add L2 Regularization\n",
        "def loss_with_reg(out, predict, model, criteria):\n",
        "  reg = 0.0\n",
        "  reg_lambda = 5e-2\n",
        "  for p in model.parameters():\n",
        "    reg += 0.5 * (p**2).sum()\n",
        "  loss = criteria(out, predict) + reg_lambda * reg\n",
        "  return loss\n",
        "'''\n",
        "# Weighting the classes(for solving class imbalance in dataset)\n",
        "nSamples = torch.tensor([1277, 1234, 2215])\n",
        "class_weights = (1.0 - nSamples / nSamples.sum()).to('cuda')\n",
        "#class_weights = (1.0 / nSamples) * 2777 \n",
        "\n",
        "\n",
        "def train_and_validate(model, train_dataset, validation_dataset, params, weights):\n",
        "    train_loss = [] \n",
        "    valid_loss = []\n",
        "    valid_acc = []\n",
        "    train_acc = []\n",
        "    \n",
        "    train_loader = DataLoader(\n",
        "        train_dataset,\n",
        "        batch_size=params[\"batch_size\"],\n",
        "        shuffle=True,\n",
        "        num_workers=params[\"num_workers\"],\n",
        "        pin_memory=True,\n",
        "        #collate_fn=collate_fn \n",
        "    )\n",
        "    val_loader = DataLoader(\n",
        "        validation_dataset,\n",
        "        batch_size=params[\"batch_size\"],\n",
        "        shuffle=False,\n",
        "        num_workers=params[\"num_workers\"],\n",
        "        pin_memory=True,\n",
        "        #collate_fn = collate_fn\n",
        "    )\n",
        "   \n",
        "    criterion = nn.CrossEntropyLoss(weight=weights).to(params[\"device\"]) \n",
        "    optimizer = torch.optim.Adam(model.parameters(), lr=params[\"lr\"], weight_decay=params[\"weight_decay\"])    # with L2 regularization\n",
        "    scheduler  = torch.optim.lr_scheduler.StepLR(optimizer, step_size=8, gamma=0.1)            # lr scheduler\n",
        "    for epoch in range(params[\"epochs\"]):\n",
        "        tr_loss, tr_acc = train(train_loader, model, criterion, optimizer, epoch, params)\n",
        "        val_loss, val_acc = validate(val_loader, model, criterion, epoch, params)\n",
        "        scheduler.step()\n",
        "        \n",
        "        train_loss.append(tr_loss)\n",
        "        train_acc.append(tr_acc)\n",
        "        valid_loss.append(val_loss)\n",
        "        valid_acc.append(val_acc)\n",
        "        \n",
        "    \n",
        "    \n",
        "    stat = {'val_loss':valid_loss, 'tr_loss':train_loss, 'val_acc':valid_acc, 'tr_acc':train_acc} \n",
        "    \n",
        "    return model, stat\n"
      ],
      "execution_count": null,
      "outputs": []
    },
    {
      "cell_type": "markdown",
      "metadata": {
        "id": "FXr5wXqJhFjl"
      },
      "source": [
        "###Test the Model"
      ]
    },
    {
      "cell_type": "code",
      "metadata": {
        "colab": {
          "base_uri": "https://localhost:8080/",
          "height": 523
        },
        "id": "bOZ6QBYvhJEL",
        "outputId": "81cbe508-b1a2-4c24-914d-7c58f7e7719d"
      },
      "source": [
        "model.eval()\n",
        "total = 0.\n",
        "correct = 0.\n",
        "predict = []\n",
        "actual = []\n",
        "\n",
        "test_loader = DataLoader(\n",
        "        test_dataset,\n",
        "        batch_size=params[\"batch_size\"],\n",
        "        shuffle=False,\n",
        "        num_workers=params[\"num_workers\"],\n",
        "        pin_memory=True)\n",
        "\n",
        "with torch.no_grad():\n",
        "    predictions = torch.tensor([]).cuda()\n",
        "    targets = torch.tensor([]).cuda()\n",
        "    for data in test_loader:\n",
        "        img, label = data\n",
        "        img = img.cuda()\n",
        "        label = label.cuda()\n",
        "        output = model(img)\n",
        "        _, predicted = torch.max(output.data, 1)\n",
        "        total += label.size(0)\n",
        "        correct += (predicted==label).sum().item()\n",
        "        predictions = torch.cat((predictions, predicted), dim=0)\n",
        "        targets = torch.cat((targets, label), dim=0)\n",
        "    test_acc = 100 * correct / total\n",
        "    cf_matrix = confusion_matrix(targets.cpu(), predictions.cpu(), labels=[0,1,2])\n",
        "    report = classification_report(targets.cpu(),predictions.cpu(), labels=[0,1,2])  \n",
        "print('Test Accuracy = {} %'.format(test_acc))\n",
        "print('Confusion Matrix: ', cf_matrix)\n",
        "print('Report: ', report)\n",
        "sns.heatmap(cf_matrix, fmt='2', annot=True, cmap='Blues') # fmt='.2%'"
      ],
      "execution_count": null,
      "outputs": [
        {
          "output_type": "stream",
          "text": [
            "Test Accuracy = 80.5414551607445 %\n",
            "Confusion Matrix:  [[150   6   4]\n",
            " [  7 100  47]\n",
            " [  8  43 226]]\n",
            "Report:                precision    recall  f1-score   support\n",
            "\n",
            "           0       0.91      0.94      0.92       160\n",
            "           1       0.67      0.65      0.66       154\n",
            "           2       0.82      0.82      0.82       277\n",
            "\n",
            "    accuracy                           0.81       591\n",
            "   macro avg       0.80      0.80      0.80       591\n",
            "weighted avg       0.80      0.81      0.80       591\n",
            "\n"
          ],
          "name": "stdout"
        },
        {
          "output_type": "execute_result",
          "data": {
            "text/plain": [
              "<matplotlib.axes._subplots.AxesSubplot at 0x7fea541bb9b0>"
            ]
          },
          "metadata": {
            "tags": []
          },
          "execution_count": 13
        },
        {
          "output_type": "display_data",
          "data": {
            "image/png": "[encoded data removed]",
            "text/plain": [
              "<Figure size 432x288 with 2 Axes>"
            ]
          },
          "metadata": {
            "tags": [],
            "needs_background": "light"
          }
        }
      ]
    },
    {
      "cell_type": "code",
      "metadata": {
        "colab": {
          "base_uri": "https://localhost:8080/",
          "height": 268
        },
        "id": "BzvU2T-tQRXI",
        "outputId": "cbba679a-98b8-48d1-d17f-d53ef944a833"
      },
      "source": [
        "group_percentages = ['{0:.2%}'.format(value) for value in\n",
        "                     cf_matrix.flatten()/np.sum(cf_matrix)]\n",
        "group_counts = ['{0:0.0f}'.format(value) for value in\n",
        "                cf_matrix.flatten()]\n",
        "labels = [f'{v1}\\n {v2}' for v1, v2 in\n",
        "          zip(group_percentages, group_counts)]\n",
        "    \n",
        "labels = np.asarray(labels).reshape(3,3)\n",
        "s_plot = sns.heatmap(cf_matrix, fmt='2', annot=labels, cmap='Blues') # fmt='.2%'\n",
        "fig = s_plot.get_figure()\n",
        "fig.savefig('./ResNet_3Class_Cmatrix')\n"
      ],
      "execution_count": null,
      "outputs": [
        {
          "output_type": "display_data",
          "data": {
            "image/png": "[encoded data removed]",
            "text/plain": [
              "<Figure size 432x288 with 2 Axes>"
            ]
          },
          "metadata": {
            "tags": [],
            "needs_background": "light"
          }
        }
      ]
    },
    {
      "cell_type": "markdown",
      "metadata": {
        "id": "6ZFtgVikXO2j"
      },
      "source": [
        "###Prediction"
      ]
    },
    {
      "cell_type": "code",
      "metadata": {
        "id": "VCtMO_G1_CjA"
      },
      "source": [
        "def predict(model, params, test_dataset, batch_size):\n",
        "    test_loader = DataLoader(\n",
        "        test_dataset, batch_size=batch_size, shuffle=False, num_workers=params[\"num_workers\"], pin_memory=True,\n",
        "    )\n",
        "    model.eval()\n",
        "    predictions = []\n",
        "    with torch.no_grad():\n",
        "        for images, (original_heights, original_widths) in test_loader:\n",
        "            images = images.to(params[\"device\"], non_blocking=True)\n",
        "            output = model(images)\n",
        "            probabilities = torch.sigmoid(output.squeeze(1))\n",
        "            predicted_masks = (probabilities >= 0.5).float() * 1\n",
        "            predicted_masks = predicted_masks.cpu().numpy()\n",
        "            for predicted_mask, original_height, original_width in zip(\n",
        "                predicted_masks, original_heights.numpy(), original_widths.numpy()\n",
        "            ):\n",
        "                predictions.append((predicted_mask, original_height, original_width))\n",
        "    return predictions\n"
      ],
      "execution_count": null,
      "outputs": []
    },
    {
      "cell_type": "code",
      "metadata": {
        "id": "mvLXFrcX_GXS"
      },
      "source": [
        "params = {\n",
        "    \"model\":resnet,\n",
        "    \"device\": \"cuda\",\n",
        "    \"lr\": 1e-5,\n",
        "    \"batch_size\": 128,\n",
        "    \"num_workers\": 4,\n",
        "    \"epochs\": 20,\n",
        "    \"weight_decay\":0\n",
        "}\n"
      ],
      "execution_count": null,
      "outputs": []
    },
    {
      "cell_type": "code",
      "metadata": {
        "colab": {
          "base_uri": "https://localhost:8080/"
        },
        "id": "OdHXadKT_JFk",
        "outputId": "f4876414-348e-4b20-ea6c-1ff217fc0c35"
      },
      "source": [
        "from torch.utils.tensorboard import SummaryWriter\n",
        "\n",
        "#Create Tensorboard\n",
        "writer = SummaryWriter('runs/my_experiment72')\n",
        "\n",
        "# Create and Train a model\n",
        "model = create_model(params)\n",
        "model, stat = train_and_validate(model, train_dataset, validation_dataset, params, class_weights)\n",
        "\n",
        "writer.flush()\n",
        "writer.close()"
      ],
      "execution_count": null,
      "outputs": [
        {
          "output_type": "stream",
          "text": [
            "Epoch: 0, Tr_Loss: 0.9764775983923025, Tr_Acc: 41.832416419805334\n",
            "Epoch: 0, Val_Loss: 0.8716697133132044, Val_Acc: 45.346869712351946\n",
            "Epoch: 1, Tr_Loss: 0.6183790409913065, Tr_Acc: 72.66187050359713\n",
            "Epoch: 1, Val_Loss: 0.6128133420411706, Val_Acc: 71.2351945854484\n",
            "Epoch: 2, Tr_Loss: 0.5363128480899148, Tr_Acc: 77.80363944138807\n",
            "Epoch: 2, Val_Loss: 0.5703030978967696, Val_Acc: 75.46531302876481\n",
            "Epoch: 3, Tr_Loss: 0.5035771587315727, Tr_Acc: 79.64451967837495\n",
            "Epoch: 3, Val_Loss: 0.5277081508120103, Val_Acc: 77.834179357022\n",
            "Epoch: 4, Tr_Loss: 0.48913653962348813, Tr_Acc: 80.80829454083792\n",
            "Epoch: 4, Val_Loss: 0.5179957195788673, Val_Acc: 78.84940778341793\n",
            "Epoch: 5, Tr_Loss: 0.46481473537708207, Tr_Acc: 81.54887854422344\n",
            "Epoch: 5, Val_Loss: 0.48866638536178925, Val_Acc: 79.69543147208122\n",
            "Epoch: 6, Tr_Loss: 0.4545794048780513, Tr_Acc: 81.44308082945409\n",
            "Epoch: 6, Val_Loss: 0.48209076423935476, Val_Acc: 80.20304568527919\n",
            "Epoch: 7, Tr_Loss: 0.44444636446260266, Tr_Acc: 81.8874312314854\n",
            "Epoch: 7, Val_Loss: 0.4777823520190825, Val_Acc: 79.3570219966159\n",
            "Epoch: 8, Tr_Loss: 0.43528418357070603, Tr_Acc: 82.67033432077866\n",
            "Epoch: 8, Val_Loss: 0.4764784910352097, Val_Acc: 79.3570219966159\n",
            "Epoch: 9, Tr_Loss: 0.4297430478462061, Tr_Acc: 82.62801523487093\n",
            "Epoch: 9, Val_Loss: 0.4711130637606187, Val_Acc: 79.86463620981388\n",
            "Epoch: 10, Tr_Loss: 0.4340690556492686, Tr_Acc: 82.14134574693186\n",
            "Epoch: 10, Val_Loss: 0.47878622010274585, Val_Acc: 79.01861252115059\n",
            "Epoch: 11, Tr_Loss: 0.4256224346473668, Tr_Acc: 82.3529411764706\n",
            "Epoch: 11, Val_Loss: 0.4772725203113911, Val_Acc: 78.84940778341793\n",
            "Epoch: 12, Tr_Loss: 0.42886358836269256, Tr_Acc: 82.39526026237833\n",
            "Epoch: 12, Val_Loss: 0.46992198696798076, Val_Acc: 80.20304568527919\n",
            "Epoch: 13, Tr_Loss: 0.4260534883377868, Tr_Acc: 82.86077020736352\n",
            "Epoch: 13, Val_Loss: 0.4676594978258291, Val_Acc: 80.20304568527919\n",
            "Epoch: 14, Tr_Loss: 0.4268614753822225, Tr_Acc: 82.58569614896318\n",
            "Epoch: 14, Val_Loss: 0.46881256087379003, Val_Acc: 79.69543147208122\n",
            "Epoch: 15, Tr_Loss: 0.4313232579122294, Tr_Acc: 82.07786711807024\n",
            "Epoch: 15, Val_Loss: 0.4681568586483421, Val_Acc: 79.52622673434855\n",
            "Epoch: 16, Tr_Loss: 0.4260864442831573, Tr_Acc: 82.56453660600931\n",
            "Epoch: 16, Val_Loss: 0.46141026669549057, Val_Acc: 80.20304568527919\n",
            "Epoch: 17, Tr_Loss: 0.4210336519483283, Tr_Acc: 82.77613203554803\n",
            "Epoch: 17, Val_Loss: 0.4695320749645911, Val_Acc: 79.01861252115059\n",
            "Epoch: 18, Tr_Loss: 0.4232222620985844, Tr_Acc: 83.00888700804063\n",
            "Epoch: 18, Val_Loss: 0.4676316511610841, Val_Acc: 79.18781725888324\n",
            "Epoch: 19, Tr_Loss: 0.41917230532525507, Tr_Acc: 83.13584426576386\n",
            "Epoch: 19, Val_Loss: 0.4650365559986198, Val_Acc: 79.69543147208122\n"
          ],
          "name": "stdout"
        }
      ]
    },
    {
      "cell_type": "code",
      "metadata": {
        "id": "uP_rYoSqL_FQ"
      },
      "source": [
        "# Save the model weights\n",
        "torch.save(model.state_dict(), './ResNet18_3Class_.ckpt')"
      ],
      "execution_count": null,
      "outputs": []
    },
    {
      "cell_type": "code",
      "metadata": {
        "colab": {
          "base_uri": "https://localhost:8080/",
          "height": 295
        },
        "id": "-hr7sX5L_MFn",
        "outputId": "993424c0-656a-466c-8508-5e7a59016945"
      },
      "source": [
        "tr_loss = stat['tr_acc']\n",
        "val_loss = stat['val_acc']\n",
        "plt.plot(val_loss, label='Validation')\n",
        "plt.plot(tr_loss, label='Training')\n",
        "plt.title('Accuracy vs Epoch Graph')\n",
        "plt.xlabel('Epoch')\n",
        "plt.ylabel('Accuracy')\n",
        "plt.legend()\n",
        "plt.show()\n",
        "\n",
        "#print(val_loss[-1])"
      ],
      "execution_count": null,
      "outputs": [
        {
          "output_type": "display_data",
          "data": {
            "image/png": "[encoded data removed]",
            "text/plain": [
              "<Figure size 432x288 with 1 Axes>"
            ]
          },
          "metadata": {
            "tags": [],
            "needs_background": "light"
          }
        }
      ]
    }
  ]
}