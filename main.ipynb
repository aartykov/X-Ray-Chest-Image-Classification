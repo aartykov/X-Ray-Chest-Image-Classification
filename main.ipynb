{
  "nbformat": 4,
  "nbformat_minor": 0,
  "metadata": {
    "accelerator": "GPU",
    "colab": {
      "name": "Models.ipynb",
      "provenance": [],
      "collapsed_sections": [],
      "machine_shape": "hm"
    },
    "kernelspec": {
      "display_name": "Python 3",
      "name": "python3"
    },
    "widgets": {
      "application/vnd.jupyter.widget-state+json": {
        "8ccb7eb457fb4f4b8eaabfc6a45aea76": {
          "model_module": "@jupyter-widgets/controls",
          "model_name": "HBoxModel",
          "state": {
            "_view_name": "HBoxView",
            "_dom_classes": [],
            "_model_name": "HBoxModel",
            "_view_module": "@jupyter-widgets/controls",
            "_model_module_version": "1.5.0",
            "_view_count": null,
            "_view_module_version": "1.5.0",
            "box_style": "",
            "layout": "IPY_MODEL_32e3dc08f19b49969619c899d733d613",
            "_model_module": "@jupyter-widgets/controls",
            "children": [
              "IPY_MODEL_2622d9625a6b49aea033203dce8dcf00",
              "IPY_MODEL_766e01a744d2444bb119ba385349dade"
            ]
          },
          "model_module_version": "1.5.0"
        },
        "32e3dc08f19b49969619c899d733d613": {
          "model_module": "@jupyter-widgets/base",
          "model_name": "LayoutModel",
          "state": {
            "_view_name": "LayoutView",
            "grid_template_rows": null,
            "right": null,
            "justify_content": null,
            "_view_module": "@jupyter-widgets/base",
            "overflow": null,
            "_model_module_version": "1.2.0",
            "_view_count": null,
            "flex_flow": null,
            "width": null,
            "min_width": null,
            "border": null,
            "align_items": null,
            "bottom": null,
            "_model_module": "@jupyter-widgets/base",
            "top": null,
            "grid_column": null,
            "overflow_y": null,
            "overflow_x": null,
            "grid_auto_flow": null,
            "grid_area": null,
            "grid_template_columns": null,
            "flex": null,
            "_model_name": "LayoutModel",
            "justify_items": null,
            "grid_row": null,
            "max_height": null,
            "align_content": null,
            "visibility": null,
            "align_self": null,
            "height": null,
            "min_height": null,
            "padding": null,
            "grid_auto_rows": null,
            "grid_gap": null,
            "max_width": null,
            "order": null,
            "_view_module_version": "1.2.0",
            "grid_template_areas": null,
            "object_position": null,
            "object_fit": null,
            "grid_auto_columns": null,
            "margin": null,
            "display": null,
            "left": null
          },
          "model_module_version": "1.2.0"
        },
        "2622d9625a6b49aea033203dce8dcf00": {
          "model_module": "@jupyter-widgets/controls",
          "model_name": "FloatProgressModel",
          "state": {
            "_view_name": "ProgressView",
            "style": "IPY_MODEL_6b68e266dcb74c8db8da909c7dc5fe4d",
            "_dom_classes": [],
            "description": "100%",
            "_model_name": "FloatProgressModel",
            "bar_style": "success",
            "max": 108857766,
            "_view_module": "@jupyter-widgets/controls",
            "_model_module_version": "1.5.0",
            "value": 108857766,
            "_view_count": null,
            "_view_module_version": "1.5.0",
            "orientation": "horizontal",
            "min": 0,
            "description_tooltip": null,
            "_model_module": "@jupyter-widgets/controls",
            "layout": "IPY_MODEL_e67af5ec66a949d09a626a8a5c5755f1"
          },
          "model_module_version": "1.5.0"
        },
        "766e01a744d2444bb119ba385349dade": {
          "model_module": "@jupyter-widgets/controls",
          "model_name": "HTMLModel",
          "state": {
            "_view_name": "HTMLView",
            "style": "IPY_MODEL_130829187cf044f48705d0acbab91217",
            "_dom_classes": [],
            "description": "",
            "_model_name": "HTMLModel",
            "placeholder": "​",
            "_view_module": "@jupyter-widgets/controls",
            "_model_module_version": "1.5.0",
            "value": " 104M/104M [00:19&lt;00:00, 5.52MB/s]",
            "_view_count": null,
            "_view_module_version": "1.5.0",
            "description_tooltip": null,
            "_model_module": "@jupyter-widgets/controls",
            "layout": "IPY_MODEL_e1db41ee66cb4bd8bb96bac8b367aacd"
          },
          "model_module_version": "1.5.0"
        },
        "6b68e266dcb74c8db8da909c7dc5fe4d": {
          "model_module": "@jupyter-widgets/controls",
          "model_name": "ProgressStyleModel",
          "state": {
            "_view_name": "StyleView",
            "_model_name": "ProgressStyleModel",
            "description_width": "initial",
            "_view_module": "@jupyter-widgets/base",
            "_model_module_version": "1.5.0",
            "_view_count": null,
            "_view_module_version": "1.2.0",
            "bar_color": null,
            "_model_module": "@jupyter-widgets/controls"
          },
          "model_module_version": "1.5.0"
        },
        "e67af5ec66a949d09a626a8a5c5755f1": {
          "model_module": "@jupyter-widgets/base",
          "model_name": "LayoutModel",
          "state": {
            "_view_name": "LayoutView",
            "grid_template_rows": null,
            "right": null,
            "justify_content": null,
            "_view_module": "@jupyter-widgets/base",
            "overflow": null,
            "_model_module_version": "1.2.0",
            "_view_count": null,
            "flex_flow": null,
            "width": null,
            "min_width": null,
            "border": null,
            "align_items": null,
            "bottom": null,
            "_model_module": "@jupyter-widgets/base",
            "top": null,
            "grid_column": null,
            "overflow_y": null,
            "overflow_x": null,
            "grid_auto_flow": null,
            "grid_area": null,
            "grid_template_columns": null,
            "flex": null,
            "_model_name": "LayoutModel",
            "justify_items": null,
            "grid_row": null,
            "max_height": null,
            "align_content": null,
            "visibility": null,
            "align_self": null,
            "height": null,
            "min_height": null,
            "padding": null,
            "grid_auto_rows": null,
            "grid_gap": null,
            "max_width": null,
            "order": null,
            "_view_module_version": "1.2.0",
            "grid_template_areas": null,
            "object_position": null,
            "object_fit": null,
            "grid_auto_columns": null,
            "margin": null,
            "display": null,
            "left": null
          },
          "model_module_version": "1.2.0"
        },
        "130829187cf044f48705d0acbab91217": {
          "model_module": "@jupyter-widgets/controls",
          "model_name": "DescriptionStyleModel",
          "state": {
            "_view_name": "StyleView",
            "_model_name": "DescriptionStyleModel",
            "description_width": "",
            "_view_module": "@jupyter-widgets/base",
            "_model_module_version": "1.5.0",
            "_view_count": null,
            "_view_module_version": "1.2.0",
            "_model_module": "@jupyter-widgets/controls"
          },
          "model_module_version": "1.5.0"
        },
        "e1db41ee66cb4bd8bb96bac8b367aacd": {
          "model_module": "@jupyter-widgets/base",
          "model_name": "LayoutModel",
          "state": {
            "_view_name": "LayoutView",
            "grid_template_rows": null,
            "right": null,
            "justify_content": null,
            "_view_module": "@jupyter-widgets/base",
            "overflow": null,
            "_model_module_version": "1.2.0",
            "_view_count": null,
            "flex_flow": null,
            "width": null,
            "min_width": null,
            "border": null,
            "align_items": null,
            "bottom": null,
            "_model_module": "@jupyter-widgets/base",
            "top": null,
            "grid_column": null,
            "overflow_y": null,
            "overflow_x": null,
            "grid_auto_flow": null,
            "grid_area": null,
            "grid_template_columns": null,
            "flex": null,
            "_model_name": "LayoutModel",
            "justify_items": null,
            "grid_row": null,
            "max_height": null,
            "align_content": null,
            "visibility": null,
            "align_self": null,
            "height": null,
            "min_height": null,
            "padding": null,
            "grid_auto_rows": null,
            "grid_gap": null,
            "max_width": null,
            "order": null,
            "_view_module_version": "1.2.0",
            "grid_template_areas": null,
            "object_position": null,
            "object_fit": null,
            "grid_auto_columns": null,
            "margin": null,
            "display": null,
            "left": null
          },
          "model_module_version": "1.2.0"
        },
        "8940a3e992f84646a42eb3b7a5f482ed": {
          "model_module": "@jupyter-widgets/controls",
          "model_name": "HBoxModel",
          "state": {
            "_view_name": "HBoxView",
            "_dom_classes": [],
            "_model_name": "HBoxModel",
            "_view_module": "@jupyter-widgets/controls",
            "_model_module_version": "1.5.0",
            "_view_count": null,
            "_view_module_version": "1.5.0",
            "box_style": "",
            "layout": "IPY_MODEL_a02845e442cd4feca25ad7aa124c2861",
            "_model_module": "@jupyter-widgets/controls",
            "children": [
              "IPY_MODEL_e6725e4292164bfdbdb5ab9072b279da",
              "IPY_MODEL_67cdc65e076d4bad97c30b9b2cd551b1"
            ]
          },
          "model_module_version": "1.5.0"
        },
        "a02845e442cd4feca25ad7aa124c2861": {
          "model_module": "@jupyter-widgets/base",
          "model_name": "LayoutModel",
          "state": {
            "_view_name": "LayoutView",
            "grid_template_rows": null,
            "right": null,
            "justify_content": null,
            "_view_module": "@jupyter-widgets/base",
            "overflow": null,
            "_model_module_version": "1.2.0",
            "_view_count": null,
            "flex_flow": null,
            "width": null,
            "min_width": null,
            "border": null,
            "align_items": null,
            "bottom": null,
            "_model_module": "@jupyter-widgets/base",
            "top": null,
            "grid_column": null,
            "overflow_y": null,
            "overflow_x": null,
            "grid_auto_flow": null,
            "grid_area": null,
            "grid_template_columns": null,
            "flex": null,
            "_model_name": "LayoutModel",
            "justify_items": null,
            "grid_row": null,
            "max_height": null,
            "align_content": null,
            "visibility": null,
            "align_self": null,
            "height": null,
            "min_height": null,
            "padding": null,
            "grid_auto_rows": null,
            "grid_gap": null,
            "max_width": null,
            "order": null,
            "_view_module_version": "1.2.0",
            "grid_template_areas": null,
            "object_position": null,
            "object_fit": null,
            "grid_auto_columns": null,
            "margin": null,
            "display": null,
            "left": null
          },
          "model_module_version": "1.2.0"
        },
        "e6725e4292164bfdbdb5ab9072b279da": {
          "model_module": "@jupyter-widgets/controls",
          "model_name": "FloatProgressModel",
          "state": {
            "_view_name": "ProgressView",
            "style": "IPY_MODEL_e5977989ecc44b52bba8b55d0669d2e3",
            "_dom_classes": [],
            "description": "100%",
            "_model_name": "FloatProgressModel",
            "bar_style": "success",
            "max": 46827520,
            "_view_module": "@jupyter-widgets/controls",
            "_model_module_version": "1.5.0",
            "value": 46827520,
            "_view_count": null,
            "_view_module_version": "1.5.0",
            "orientation": "horizontal",
            "min": 0,
            "description_tooltip": null,
            "_model_module": "@jupyter-widgets/controls",
            "layout": "IPY_MODEL_dbb5ab6a66724d929b27326aba524d3d"
          },
          "model_module_version": "1.5.0"
        },
        "67cdc65e076d4bad97c30b9b2cd551b1": {
          "model_module": "@jupyter-widgets/controls",
          "model_name": "HTMLModel",
          "state": {
            "_view_name": "HTMLView",
            "style": "IPY_MODEL_cccd621875764012914b091c9274bde9",
            "_dom_classes": [],
            "description": "",
            "_model_name": "HTMLModel",
            "placeholder": "​",
            "_view_module": "@jupyter-widgets/controls",
            "_model_module_version": "1.5.0",
            "value": " 44.7M/44.7M [00:00&lt;00:00, 183MB/s]",
            "_view_count": null,
            "_view_module_version": "1.5.0",
            "description_tooltip": null,
            "_model_module": "@jupyter-widgets/controls",
            "layout": "IPY_MODEL_e1aa80b81f90408a90e84e9918036816"
          },
          "model_module_version": "1.5.0"
        },
        "e5977989ecc44b52bba8b55d0669d2e3": {
          "model_module": "@jupyter-widgets/controls",
          "model_name": "ProgressStyleModel",
          "state": {
            "_view_name": "StyleView",
            "_model_name": "ProgressStyleModel",
            "description_width": "initial",
            "_view_module": "@jupyter-widgets/base",
            "_model_module_version": "1.5.0",
            "_view_count": null,
            "_view_module_version": "1.2.0",
            "bar_color": null,
            "_model_module": "@jupyter-widgets/controls"
          },
          "model_module_version": "1.5.0"
        },
        "dbb5ab6a66724d929b27326aba524d3d": {
          "model_module": "@jupyter-widgets/base",
          "model_name": "LayoutModel",
          "state": {
            "_view_name": "LayoutView",
            "grid_template_rows": null,
            "right": null,
            "justify_content": null,
            "_view_module": "@jupyter-widgets/base",
            "overflow": null,
            "_model_module_version": "1.2.0",
            "_view_count": null,
            "flex_flow": null,
            "width": null,
            "min_width": null,
            "border": null,
            "align_items": null,
            "bottom": null,
            "_model_module": "@jupyter-widgets/base",
            "top": null,
            "grid_column": null,
            "overflow_y": null,
            "overflow_x": null,
            "grid_auto_flow": null,
            "grid_area": null,
            "grid_template_columns": null,
            "flex": null,
            "_model_name": "LayoutModel",
            "justify_items": null,
            "grid_row": null,
            "max_height": null,
            "align_content": null,
            "visibility": null,
            "align_self": null,
            "height": null,
            "min_height": null,
            "padding": null,
            "grid_auto_rows": null,
            "grid_gap": null,
            "max_width": null,
            "order": null,
            "_view_module_version": "1.2.0",
            "grid_template_areas": null,
            "object_position": null,
            "object_fit": null,
            "grid_auto_columns": null,
            "margin": null,
            "display": null,
            "left": null
          },
          "model_module_version": "1.2.0"
        },
        "cccd621875764012914b091c9274bde9": {
          "model_module": "@jupyter-widgets/controls",
          "model_name": "DescriptionStyleModel",
          "state": {
            "_view_name": "StyleView",
            "_model_name": "DescriptionStyleModel",
            "description_width": "",
            "_view_module": "@jupyter-widgets/base",
            "_model_module_version": "1.5.0",
            "_view_count": null,
            "_view_module_version": "1.2.0",
            "_model_module": "@jupyter-widgets/controls"
          },
          "model_module_version": "1.5.0"
        },
        "e1aa80b81f90408a90e84e9918036816": {
          "model_module": "@jupyter-widgets/base",
          "model_name": "LayoutModel",
          "state": {
            "_view_name": "LayoutView",
            "grid_template_rows": null,
            "right": null,
            "justify_content": null,
            "_view_module": "@jupyter-widgets/base",
            "overflow": null,
            "_model_module_version": "1.2.0",
            "_view_count": null,
            "flex_flow": null,
            "width": null,
            "min_width": null,
            "border": null,
            "align_items": null,
            "bottom": null,
            "_model_module": "@jupyter-widgets/base",
            "top": null,
            "grid_column": null,
            "overflow_y": null,
            "overflow_x": null,
            "grid_auto_flow": null,
            "grid_area": null,
            "grid_template_columns": null,
            "flex": null,
            "_model_name": "LayoutModel",
            "justify_items": null,
            "grid_row": null,
            "max_height": null,
            "align_content": null,
            "visibility": null,
            "align_self": null,
            "height": null,
            "min_height": null,
            "padding": null,
            "grid_auto_rows": null,
            "grid_gap": null,
            "max_width": null,
            "order": null,
            "_view_module_version": "1.2.0",
            "grid_template_areas": null,
            "object_position": null,
            "object_fit": null,
            "grid_auto_columns": null,
            "margin": null,
            "display": null,
            "left": null
          },
          "model_module_version": "1.2.0"
        }
      }
    }
  },
  "cells": [
    {
      "cell_type": "markdown",
      "metadata": {
        "id": "3FHsILoyyf9U"
      },
      "source": [
        "Import Useful Libraries"
      ]
    },
    {
      "cell_type": "code",
      "metadata": {
        "id": "_Ui5xwKJyCQf"
      },
      "source": [
        "import random\n",
        "import os\n",
        "import cv2\n",
        "import torch\n",
        "import numpy as np\n",
        "import pandas as pd\n",
        "import torchvision.transforms as transforms\n",
        "from torch.utils.data import Dataset, DataLoader\n",
        "import torch.nn as nn\n",
        "from PIL import Image\n",
        "from torchsummary import summary\n",
        "import matplotlib.pyplot as plt\n",
        "from sklearn.metrics import confusion_matrix\n",
        "import seaborn as sns\n",
        "from sklearn.metrics import classification_report\n",
        "import torchvision\n"
      ],
      "execution_count": null,
      "outputs": []
    },
    {
      "cell_type": "markdown",
      "metadata": {
        "id": "6VLhRCH2QyXz"
      },
      "source": [
        "Split Training Dataset into Train and Validation"
      ]
    },
    {
      "cell_type": "code",
      "metadata": {
        "colab": {
          "base_uri": "https://localhost:8080/"
        },
        "id": "JeU_0bZt-nPt",
        "outputId": "7466fc27-7c54-4ccf-82f6-8dc6820b8671"
      },
      "source": [
        "# Files paths\n",
        "meta_file_dir = './Dataset/Chest_xray_Corona_Metadata.csv'\n",
        "data_path = './Dataset/Tr_Test_Data'\n",
        "\n",
        "missed = []\n",
        "data_images_filenames = set(os.listdir(data_path))\n",
        "# REMOVE UNLABELLED(MISSED) DATA FROM DATASET\n",
        "meta_data = pd.read_csv(meta_file_dir, usecols=['X_ray_image_name', 'Label', 'Label_2_Virus_category', 'Label_1_Virus_category'])    # Read the meta_data csv file\n",
        "meta_names = meta_data.X_ray_image_name.to_list()                               # List of image names  \n",
        "for image_name in data_images_filenames:                                        \n",
        "    if image_name not in meta_names:                                            # Check whether image name is in meta file\n",
        "      missed.append(image_name)\n",
        "\n",
        "data_images_filenames = sorted(list(data_images_filenames))\n",
        "for i in missed:\n",
        "  data_images_filenames.remove(i)\n",
        "\n",
        "# PREPARE THE LABELS FOR EACH CLASS\n",
        "data_df = pd.read_csv(meta_file_dir)\n",
        "data_df['Label_2_Virus_category'].fillna('NA', inplace=True)                    # Fill nan values with 'NA' in csv file\n",
        "# Get indexes of each case\n",
        "idx_normal = data_df[data_df['Label'] == 'Normal'].index                        \n",
        "idx_pnemonia = data_df[data_df['Label'] == 'Pnemonia'].index\n",
        "\"\"\"\n",
        "idx_ards = data_df[data_df['Label_2_Virus_category'] == 'ARDS'].index\n",
        "idx_covid = data_df[data_df['Label_2_Virus_category'] == 'COVID-19'].index\n",
        "idx_sars = data_df[data_df['Label_2_Virus_category'] == 'SARS'].index\n",
        "idx_streptococcus = data_df[data_df['Label_2_Virus_category'] == 'Streptococcus'].index\n",
        "idx_virus_NaN = data_df[(data_df['Label_1_Virus_category'] == 'Virus') & (data_df['Label_2_Virus_category'] == 'NA')].index\n",
        "idx_bacteria_NaN = data_df[(data_df['Label_1_Virus_category'] == 'bacteria') & (data_df['Label_2_Virus_category'] == 'NA')].index\n",
        "\"\"\"\n",
        "# Get image names of specified indexes, obtain list of image names, obtain dict of image names with corresponding labels\n",
        "normal_case = data_df['X_ray_image_name'][idx_normal]\n",
        "normal_case = normal_case.to_list()\n",
        "normal_case = {normal_case[i]:0 for i in range(len(normal_case))}\n",
        "\n",
        "pnemonia_case = data_df['X_ray_image_name'][idx_pnemonia]\n",
        "pnemonia_case = pnemonia_case.to_list()\n",
        "pnemonia_case = {pnemonia_case[i]:1 for i in range(len(pnemonia_case))}\n",
        "\"\"\"\n",
        "covid_case = data_df['X_ray_image_name'][idx_covid]\n",
        "covid_case = covid_case.to_list()\n",
        "covid_case = {covid_case[i]:1 for i in range(len(covid_case))}\n",
        "\n",
        "virus_nan = data_df['X_ray_image_name'][idx_virus_NaN]\n",
        "virus_nan = virus_nan.to_list()\n",
        "virus_nan = {virus_nan[i]:2 for i in range(len(virus_nan))}\n",
        "\n",
        "bacteria_nan = data_df['X_ray_image_name'][idx_bacteria_NaN]\n",
        "bacteria_nan = bacteria_nan.to_list()\n",
        "bacteria_nan = {bacteria_nan[i]:3 for i in range(len(bacteria_nan))}\n",
        "\"\"\"\n",
        "# Merge all the dictionaries into one dict\n",
        "labelled_data = {**normal_case, **pnemonia_case}\n",
        "\n",
        "\"\"\"\n",
        "# Remove data that causes to class imbalance(sars, ards, stretococcus)\n",
        "ards_case = data_df['X_ray_image_name'][idx_ards]\n",
        "ards_case = ards_case.to_list()\n",
        "#ards_case = {ards_case[i]:1 for i in range(len(ards_case))}\n",
        "sars_case = data_df['X_ray_image_name'][idx_sars]\n",
        "sars_case = sars_case.to_list()\n",
        "#sars_case = {sars_case[i]:4 for i in range(len(sars_case))}\n",
        "streptococcus_case = data_df['X_ray_image_name'][idx_streptococcus]\n",
        "streptococcus_case = streptococcus_case.to_list()\n",
        "#streptococcus_case = {streptococcus_case[i]:6 for i in range(len(streptococcus_case))}\n",
        "\n",
        "unnsecerray = ards_case + sars_case + streptococcus_case\n",
        "for i in unnsecerray:\n",
        "  data_images_filenames.remove(i)\n",
        "\"\"\"\n",
        "\n",
        "# Randomly create train/val/test dataset\n",
        "random.seed(42)\n",
        "random.shuffle(data_images_filenames)                        # Shuffle all the images in order to randmoly create train/val/test dataset\n",
        "\n",
        "train_images_filenames = data_images_filenames[:4728]        # 80% train images\n",
        "val_images_filenames = data_images_filenames[4728:-591]      # 10% val images \n",
        "test_images_filenames = data_images_filenames[-591:]         # 10% test images\n",
        "\n",
        "\n",
        "\n",
        "\n",
        "print(len(train_images_filenames), len(val_images_filenames), len(test_images_filenames))\n",
        "print(len(missed), len(data_images_filenames), len(meta_names))"
      ],
      "execution_count": null,
      "outputs": [
        {
          "output_type": "stream",
          "text": [
            "4728 591 591\n",
            "23 5910 5910\n"
          ],
          "name": "stdout"
        }
      ]
    },
    {
      "cell_type": "markdown",
      "metadata": {
        "id": "xp4TFlNTPpco"
      },
      "source": [
        "Dataset Preparation"
      ]
    },
    {
      "cell_type": "code",
      "metadata": {
        "id": "DWnRGbFu-t2V"
      },
      "source": [
        "\n",
        "class ChestDataset(Dataset):\n",
        "    def __init__(self, images_filenames, images_directory, labelled_data, transform=None):\n",
        "        self.images_filenames = images_filenames\n",
        "        self.images_directory = images_directory \n",
        "        self.labelled_data = labelled_data\n",
        "        self.transform = transform\n",
        "\n",
        "    def __len__(self):\n",
        "        return len(self.images_filenames)\n",
        "\n",
        "    def __getitem__(self, idx):\n",
        "        image_name = self.images_filenames[idx]\n",
        "        image = Image.open(os.path.join(self.images_directory, image_name))     # Read an image as PIL image\n",
        "        \n",
        "        # Convert grayscale image to rgb image\n",
        "        image = image.convert(\"RGB\")\n",
        "\n",
        "        # Get the corresponding label of image\n",
        "        label = self.labelled_data[image_name]\n",
        "           \n",
        "        if self.transform is not None:\n",
        "            image = self.transform(image)\n",
        "            \n",
        "        return image, torch.tensor(label)\n",
        "\n",
        "\n",
        "image_size = 224\n",
        "# Transformations\n",
        "train_transforms = transforms.Compose([\n",
        "                                  transforms.Resize((image_size, image_size)),\n",
        "                                  #transforms.RandomCrop((224,224)),\n",
        "                                  transforms.RandomHorizontalFlip(p=0.5),\n",
        "                                  #transforms.RandomVerticalFlip(p=0.5),\n",
        "                                  transforms.ToTensor(), \n",
        "                                  transforms.Normalize([0.485, 0.456, 0.406], [0.229, 0.224, 0.225])                         \n",
        "])\n",
        "\n",
        "# Augmentation is not applied to the validation dataset\n",
        "validation_transforms = transforms.Compose([\n",
        "                                            transforms.Resize((image_size, image_size)),\n",
        "                                            transforms.ToTensor(),\n",
        "                                            transforms.Normalize([0.485, 0.456, 0.406], [0.229, 0.224, 0.225])          \n",
        "])\n",
        "\n",
        "test_transforms = transforms.Compose([\n",
        "                                      transforms.Resize((image_size, image_size)),\n",
        "                                      transforms.ToTensor(),\n",
        "                                      transforms.Normalize([0.485, 0.456, 0.406], [0.229, 0.224, 0.225])                    \n",
        "])\n",
        "\n",
        "# Create datasets\n",
        "train_dataset = ChestDataset(train_images_filenames, data_path, labelled_data, transform=train_transforms)\n",
        "validation_dataset = ChestDataset(val_images_filenames, data_path, labelled_data, transform=validation_transforms)\n",
        "test_dataset = ChestDataset(test_images_filenames, data_path, labelled_data, transform=test_transforms)"
      ],
      "execution_count": null,
      "outputs": []
    },
    {
      "cell_type": "code",
      "metadata": {
        "id": "iCNZpkwca0Zy",
        "colab": {
          "base_uri": "https://localhost:8080/"
        },
        "outputId": "f61e10a2-9b93-4183-eafd-84e228e8d9ea"
      },
      "source": [
        "# Check image counts in each dataset\n",
        "\n",
        "sifir = 0\n",
        "bir = 0\n",
        "\n",
        "for i in train_images_filenames:\n",
        "  if labelled_data[i] == 0:\n",
        "    sifir += 1\n",
        "  elif labelled_data[i] == 1:\n",
        "    bir += 1\n",
        "  \n",
        "print(sifir, bir)\n",
        "\n"
      ],
      "execution_count": null,
      "outputs": [
        {
          "output_type": "stream",
          "text": [
            "1278 3450\n"
          ],
          "name": "stdout"
        }
      ]
    },
    {
      "cell_type": "markdown",
      "metadata": {
        "id": "W_6QdM6m7y6g"
      },
      "source": [
        "###Models"
      ]
    },
    {
      "cell_type": "markdown",
      "metadata": {
        "id": "UHvvAGrNhux8"
      },
      "source": [
        "Custom Model(Corona Net)"
      ]
    },
    {
      "cell_type": "code",
      "metadata": {
        "colab": {
          "base_uri": "https://localhost:8080/"
        },
        "id": "lE0yAZ2Q7xhO",
        "outputId": "2ab8f8fc-f8d8-4c10-b22f-620b4c7306af"
      },
      "source": [
        "def init_weights(m):\n",
        "    if type(m) == nn.Conv2d or type(m) == nn.Linear:\n",
        "        torch.nn.init.kaiming_normal_(m.weight)\n",
        "        m.bias.data.fill_(0.0)\n",
        "\n",
        "\n",
        "\n",
        "\n",
        "class Corona_Net(nn.Module):\n",
        "  def __init__(self, in_channel=3, out_channel=32):\n",
        "    super(Corona_Net, self).__init__()\n",
        "\n",
        "    self.conv = nn.Sequential(\n",
        "        nn.Conv2d(in_channel, out_channel, kernel_size=3),\n",
        "        nn.ReLU(inplace=True),\n",
        "        nn.BatchNorm2d(out_channel),\n",
        "        \n",
        "        nn.Conv2d(out_channel, 64, kernel_size=3),\n",
        "        nn.ReLU(inplace=True),\n",
        "        nn.BatchNorm2d(64),\n",
        "        nn.MaxPool2d(kernel_size=2,stride=2),\n",
        "        \n",
        "        nn.Conv2d(64, 128, kernel_size=3),\n",
        "        nn.ReLU(inplace=True),\n",
        "        nn.BatchNorm2d(128),\n",
        "        \n",
        "        nn.Conv2d(128, 128, kernel_size=3),\n",
        "        nn.ReLU(inplace=True),\n",
        "        nn.BatchNorm2d(128),\n",
        "        nn.MaxPool2d(kernel_size=2,stride=2),\n",
        "        \n",
        "        nn.Conv2d(128, 128, kernel_size=3),\n",
        "        nn.ReLU(inplace=True),\n",
        "        nn.BatchNorm2d(128),\n",
        "        \n",
        "        nn.Conv2d(128, 256, kernel_size=3),\n",
        "        nn.ReLU(inplace=True),\n",
        "        nn.BatchNorm2d(256),\n",
        "        nn.MaxPool2d(kernel_size=2,stride=2))\n",
        "    self.conv.apply(init_weights)\n",
        "\n",
        "    \n",
        "    \n",
        "    self.linear = nn.Sequential(\n",
        "        nn.Linear(256*24*24,512),\n",
        "        nn.ReLU(inplace=True),\n",
        "        nn.Linear(512, 128),\n",
        "        nn.ReLU(inplace=True),\n",
        "        nn.Linear(128,2)  )\n",
        "                                  \n",
        "    self.linear.apply(init_weights)\n",
        "  \n",
        "  def forward(self, image):\n",
        "    \n",
        "    out = self.conv(image)\n",
        "\n",
        "    out = out.view(-1, 256*24*24)                    # Flattening the conv output\n",
        "\n",
        "    out = self.linear(out)\n",
        "\n",
        "    return out\n",
        "\n",
        "\n",
        "if __name__ == '__main__':\n",
        "    image = torch.rand((1, 3, 224, 224))\n",
        "    model = Corona_Net()    #.to('cuda')\n",
        "    print(model(image).size())\n",
        "  \n",
        "    "
      ],
      "execution_count": null,
      "outputs": [
        {
          "output_type": "stream",
          "text": [
            "torch.Size([1, 2])\n"
          ],
          "name": "stdout"
        }
      ]
    },
    {
      "cell_type": "markdown",
      "metadata": {
        "id": "qXXMPCWsnxnD"
      },
      "source": [
        "Inception-V3"
      ]
    },
    {
      "cell_type": "code",
      "metadata": {
        "colab": {
          "base_uri": "https://localhost:8080/",
          "height": 83,
          "referenced_widgets": [
            "8ccb7eb457fb4f4b8eaabfc6a45aea76",
            "32e3dc08f19b49969619c899d733d613",
            "2622d9625a6b49aea033203dce8dcf00",
            "766e01a744d2444bb119ba385349dade",
            "6b68e266dcb74c8db8da909c7dc5fe4d",
            "e67af5ec66a949d09a626a8a5c5755f1",
            "130829187cf044f48705d0acbab91217",
            "e1db41ee66cb4bd8bb96bac8b367aacd"
          ]
        },
        "id": "Vhbo0Jn5nw5J",
        "outputId": "5dfb3944-0a68-4e70-d950-09bb3cf7cdbb"
      },
      "source": [
        "def freeze_some_parameters(model):\n",
        "\n",
        "  for i, child in enumerate(model):\n",
        "    if i < 16:                                                                  # Set the ith layer and freeze all the layers up to the ith layer\n",
        "      for param in child.parameters():\n",
        "        param.requires_grad = False\n",
        "\n",
        "inception = torchvision.models.inception_v3(pretrained=True, aux_logits=False)\n",
        "model_layers = list(inception.children())\n",
        "freeze_some_parameters(model_layers)\n",
        "num_classes = 2\n",
        "\n",
        "num_ftrs = inception.fc.in_features\n",
        "inception.fc = nn.Linear(num_ftrs,num_classes)\n",
        "#input_size = 299"
      ],
      "execution_count": null,
      "outputs": [
        {
          "output_type": "stream",
          "text": [
            "Downloading: \"https://download.pytorch.org/models/inception_v3_google-1a9a5a14.pth\" to /root/.cache/torch/hub/checkpoints/inception_v3_google-1a9a5a14.pth\n"
          ],
          "name": "stderr"
        },
        {
          "output_type": "display_data",
          "data": {
            "application/vnd.jupyter.widget-view+json": {
              "model_id": "8ccb7eb457fb4f4b8eaabfc6a45aea76",
              "version_minor": 0,
              "version_major": 2
            },
            "text/plain": [
              "HBox(children=(FloatProgress(value=0.0, max=108857766.0), HTML(value='')))"
            ]
          },
          "metadata": {
            "tags": []
          }
        },
        {
          "output_type": "stream",
          "text": [
            "\n"
          ],
          "name": "stdout"
        }
      ]
    },
    {
      "cell_type": "markdown",
      "metadata": {
        "id": "vzuKoi_98NnH"
      },
      "source": [
        "ResNet-18"
      ]
    },
    {
      "cell_type": "code",
      "metadata": {
        "colab": {
          "base_uri": "https://localhost:8080/",
          "height": 100,
          "referenced_widgets": [
            "8940a3e992f84646a42eb3b7a5f482ed",
            "a02845e442cd4feca25ad7aa124c2861",
            "e6725e4292164bfdbdb5ab9072b279da",
            "67cdc65e076d4bad97c30b9b2cd551b1",
            "e5977989ecc44b52bba8b55d0669d2e3",
            "dbb5ab6a66724d929b27326aba524d3d",
            "cccd621875764012914b091c9274bde9",
            "e1aa80b81f90408a90e84e9918036816"
          ]
        },
        "id": "pK82fpXo8QW-",
        "outputId": "4d7a24eb-bec0-418b-9cb9-c3e07ca2f3cb"
      },
      "source": [
        "import torchvision\n",
        "\n",
        "def freeze_some_parameters(model):\n",
        "\n",
        "  for i, child in enumerate(model):\n",
        "    if i < 6:                                                                   # Set the ith layer and freeze all the layers up to the ith layer\n",
        "      for param in child.parameters():\n",
        "        param.requires_grad = False\n",
        "\n",
        "resnet = torchvision.models.resnet18(pretrained=True)\n",
        "num_filters = resnet.fc.in_features\n",
        "resnet.fc = nn.Linear(num_filters, 2)\n",
        "\n",
        "model_layers = list(resnet.children())\n",
        "freeze_some_parameters(model_layers)\n",
        "\n",
        "if __name__ == '__main__':\n",
        "    image = torch.rand((1, 3, 500, 500))\n",
        "    model = resnet\n",
        "    #print(model(image).size())\n",
        "model_layers[8]"
      ],
      "execution_count": null,
      "outputs": [
        {
          "output_type": "stream",
          "text": [
            "Downloading: \"https://download.pytorch.org/models/resnet18-5c106cde.pth\" to /root/.cache/torch/hub/checkpoints/resnet18-5c106cde.pth\n"
          ],
          "name": "stderr"
        },
        {
          "output_type": "display_data",
          "data": {
            "application/vnd.jupyter.widget-view+json": {
              "model_id": "8940a3e992f84646a42eb3b7a5f482ed",
              "version_minor": 0,
              "version_major": 2
            },
            "text/plain": [
              "HBox(children=(FloatProgress(value=0.0, max=46827520.0), HTML(value='')))"
            ]
          },
          "metadata": {
            "tags": []
          }
        },
        {
          "output_type": "stream",
          "text": [
            "\n"
          ],
          "name": "stdout"
        },
        {
          "output_type": "execute_result",
          "data": {
            "text/plain": [
              "AdaptiveAvgPool2d(output_size=(1, 1))"
            ]
          },
          "metadata": {
            "tags": []
          },
          "execution_count": 7
        }
      ]
    },
    {
      "cell_type": "markdown",
      "metadata": {
        "id": "S7JE_dweXKM8"
      },
      "source": [
        "###Train and Evaluate"
      ]
    },
    {
      "cell_type": "code",
      "metadata": {
        "id": "k2O1ClgK-4li"
      },
      "source": [
        "def train(train_loader, model, criterion, optimizer, epoch, params):\n",
        "    \n",
        "    model.train()\n",
        "    running_loss = 0.0\n",
        "    total = 0.\n",
        "    correct = 0.\n",
        "    for i, (images, target) in enumerate(train_loader):\n",
        "        images = images.to(params[\"device\"], non_blocking=True)\n",
        "        target = target.to(params[\"device\"], non_blocking=True)\n",
        "        output = model(images)\n",
        "        loss = criterion(output, target)\n",
        "        \n",
        "        running_loss += float(loss.item()) * images.size(0)           \n",
        "        _, predicted = torch.max(output.data, 1)\n",
        "        total += target.size(0)\n",
        "        correct += (predicted==target).sum().item()\n",
        "        optimizer.zero_grad()\n",
        "        loss.backward()\n",
        "        optimizer.step()\n",
        "        \n",
        "    epoch_acc = 100 * correct / total      \n",
        "    epoch_loss = running_loss / len(train_loader.dataset)\n",
        "    print('Epoch: {}, Tr_Loss: {}, Tr_Acc: {}'.format(epoch, epoch_loss, epoch_acc))\n",
        "    return epoch_loss, epoch_acc "
      ],
      "execution_count": null,
      "outputs": []
    },
    {
      "cell_type": "code",
      "metadata": {
        "id": "Wp95-bzF-7R1"
      },
      "source": [
        "def validate(val_loader, model, criterion, epoch, params):\n",
        "    \n",
        "    model.eval()\n",
        "    \n",
        "    running_loss = 0.0\n",
        "    total = 0.\n",
        "    correct = 0.\n",
        "    with torch.no_grad():\n",
        "        for i, (images, target) in enumerate(val_loader):\n",
        "            images = images.to(params[\"device\"], non_blocking=True)\n",
        "            target = target.to(params[\"device\"], non_blocking=True)\n",
        "            output = model(images)\n",
        "            loss = criterion(output, target)\n",
        "            \n",
        "            running_loss += float(loss.item()) * images.size(0)                 \n",
        "            _, predicted = torch.max(output.data, 1)\n",
        "            total += target.size(0)\n",
        "            correct += (predicted==target).sum().item()            \n",
        "            \n",
        "    epoch_loss = running_loss / len(val_loader.dataset)\n",
        "    \n",
        "    epoch_acc = 100 * correct / total\n",
        "    print('Epoch: {}, Val_Loss: {}, Val_Acc: {}'.format(epoch, epoch_loss, epoch_acc))\n",
        "    return epoch_loss, epoch_acc "
      ],
      "execution_count": null,
      "outputs": []
    },
    {
      "cell_type": "code",
      "metadata": {
        "id": "Np4hIQpC_ANu"
      },
      "source": [
        "def create_model(params):\n",
        "    model = resnet  \n",
        "    model = model.to(params[\"device\"])\n",
        "    return model\n",
        "\n",
        "\n",
        "\n",
        "# Weighting the classes(for solving class imbalance in dataset)\n",
        "nSamples = torch.tensor([1274, 3447])\n",
        "class_weights = (1.0 - nSamples / nSamples.sum()).to('cuda')\n",
        "\n",
        "\n",
        "def train_and_validate(model, train_dataset, validation_dataset, params, weights):\n",
        "    train_loss = [] \n",
        "    valid_loss = []\n",
        "    valid_acc = []\n",
        "    train_acc = []\n",
        "    \n",
        "    train_loader = DataLoader(\n",
        "        train_dataset,\n",
        "        batch_size=params[\"batch_size\"],\n",
        "        shuffle=True,\n",
        "        num_workers=params[\"num_workers\"],\n",
        "        pin_memory=True\n",
        "    )\n",
        "    val_loader = DataLoader(\n",
        "        validation_dataset,\n",
        "        batch_size=params[\"batch_size\"],\n",
        "        shuffle=False,\n",
        "        num_workers=params[\"num_workers\"],\n",
        "        pin_memory=True\n",
        "    )\n",
        "   \n",
        "    criterion = nn.CrossEntropyLoss(weight=weights).to(params[\"device\"]) \n",
        "    optimizer = torch.optim.Adam(model.parameters(), lr=params[\"lr\"], weight_decay=params[\"weight_decay\"])    # with L2 regularization\n",
        "    scheduler  = torch.optim.lr_scheduler.StepLR(optimizer, step_size=7, gamma=0.1)                           # lr scheduler\n",
        "    for epoch in range(params[\"epochs\"]):\n",
        "        tr_loss, tr_acc = train(train_loader, model, criterion, optimizer, epoch, params)\n",
        "        val_loss, val_acc = validate(val_loader, model, criterion, epoch, params)\n",
        "        scheduler.step()\n",
        "        \n",
        "        train_loss.append(tr_loss)\n",
        "        train_acc.append(tr_acc)\n",
        "        valid_loss.append(val_loss)\n",
        "        valid_acc.append(val_acc)\n",
        "        \n",
        "    \n",
        "    \n",
        "    stat = {'val_loss':valid_loss, 'tr_loss':train_loss, 'val_acc':valid_acc, 'tr_acc':train_acc} \n",
        "    \n",
        "    return model, stat\n"
      ],
      "execution_count": null,
      "outputs": []
    },
    {
      "cell_type": "markdown",
      "metadata": {
        "id": "FXr5wXqJhFjl"
      },
      "source": [
        "###Test the Model"
      ]
    },
    {
      "cell_type": "code",
      "metadata": {
        "colab": {
          "base_uri": "https://localhost:8080/",
          "height": 486
        },
        "id": "bOZ6QBYvhJEL",
        "outputId": "e5b0edae-7f64-4380-cbaf-b338922ceee5"
      },
      "source": [
        "model.eval()\n",
        "total = 0.\n",
        "correct = 0.\n",
        "predict = []\n",
        "actual = []\n",
        "\n",
        "test_loader = DataLoader(\n",
        "        test_dataset,\n",
        "        batch_size=params[\"batch_size\"],\n",
        "        shuffle=False,\n",
        "        num_workers=params[\"num_workers\"],\n",
        "        pin_memory=True)\n",
        "\n",
        "with torch.no_grad():\n",
        "    predictions = torch.tensor([]).cuda()\n",
        "    targets = torch.tensor([]).cuda()\n",
        "    for data in test_loader:\n",
        "        img, label = data\n",
        "        img = img.cuda()\n",
        "        label = label.cuda()\n",
        "        output = model(img)\n",
        "        _, predicted = torch.max(output.data, 1)\n",
        "        total += label.size(0)\n",
        "        correct += (predicted==label).sum().item()\n",
        "        predictions = torch.cat((predictions, predicted), dim=0)\n",
        "        targets = torch.cat((targets, label), dim=0)\n",
        "    test_acc = 100 * correct / total\n",
        "    cf_matrix = confusion_matrix(targets.cpu(), predictions.cpu(), labels=[0,1])\n",
        "    report = classification_report(targets.cpu(),predictions.cpu(), labels=[0,1])  \n",
        "print('Test Accuracy = {} %'.format(test_acc))\n",
        "print('Confusion Matrix: ', cf_matrix)\n",
        "print('Report: ', report)\n",
        "sns.heatmap(cf_matrix, fmt='2', annot=True, cmap='Blues') "
      ],
      "execution_count": null,
      "outputs": [
        {
          "output_type": "stream",
          "text": [
            "Test Accuracy = 94.41624365482234 %\n",
            "Confusion Matrix:  [[149  11]\n",
            " [ 22 409]]\n",
            "Report:                precision    recall  f1-score   support\n",
            "\n",
            "           0       0.87      0.93      0.90       160\n",
            "           1       0.97      0.95      0.96       431\n",
            "\n",
            "    accuracy                           0.94       591\n",
            "   macro avg       0.92      0.94      0.93       591\n",
            "weighted avg       0.95      0.94      0.94       591\n",
            "\n"
          ],
          "name": "stdout"
        },
        {
          "output_type": "execute_result",
          "data": {
            "text/plain": [
              "<matplotlib.axes._subplots.AxesSubplot at 0x7fd9cfd67e48>"
            ]
          },
          "metadata": {
            "tags": []
          },
          "execution_count": 17
        },
        {
          "output_type": "display_data",
          "data": {
            "image/png": "[encoded data removed]",
            "text/plain": [
              "<Figure size 432x288 with 2 Axes>"
            ]
          },
          "metadata": {
            "tags": [],
            "needs_background": "light"
          }
        }
      ]
    },
    {
      "cell_type": "code",
      "metadata": {
        "colab": {
          "base_uri": "https://localhost:8080/",
          "height": 265
        },
        "id": "SRgto0D8TEXo",
        "outputId": "4652f3ec-9657-474f-bb7e-dad6eabcb257"
      },
      "source": [
        "group_percentages = ['{0:.2%}'.format(value) for value in\n",
        "                     cf_matrix.flatten()/np.sum(cf_matrix)]\n",
        "group_counts = ['{0:0.0f}'.format(value) for value in\n",
        "                cf_matrix.flatten()]\n",
        "labels = [f'{v1}\\n {v2}' for v1, v2 in\n",
        "          zip(group_percentages, group_counts)]\n",
        "    \n",
        "labels = np.asarray(labels).reshape(2,2)\n",
        "s_plot = sns.heatmap(cf_matrix, fmt='2', annot=labels, cmap='Blues') # fmt='.2%'\n",
        "fig = s_plot.get_figure()\n",
        "fig.savefig('./Inception_Cmatrix')\n"
      ],
      "execution_count": null,
      "outputs": [
        {
          "output_type": "display_data",
          "data": {
            "image/png": "[encoded data removed]",
            "text/plain": [
              "<Figure size 432x288 with 2 Axes>"
            ]
          },
          "metadata": {
            "tags": [],
            "needs_background": "light"
          }
        }
      ]
    },
    {
      "cell_type": "markdown",
      "metadata": {
        "id": "IqvUgbspz3QR"
      },
      "source": [
        "Parameters for Custom Model"
      ]
    },
    {
      "cell_type": "code",
      "metadata": {
        "id": "mvLXFrcX_GXS"
      },
      "source": [
        "params = {\n",
        "    \"model\":Corona_Net(),\n",
        "    \"device\": \"cuda\",\n",
        "    \"lr\": 1e-3,\n",
        "    \"batch_size\": 128,\n",
        "    \"num_workers\": 4,\n",
        "    \"epochs\": 20,\n",
        "    \"weight_decay\":1e-2\n",
        "}\n"
      ],
      "execution_count": null,
      "outputs": []
    },
    {
      "cell_type": "markdown",
      "metadata": {
        "id": "2AX_3Cxrz-nL"
      },
      "source": [
        "Parameters for Transfer Learning"
      ]
    },
    {
      "cell_type": "code",
      "metadata": {
        "id": "3klJkq6N8vpG"
      },
      "source": [
        "params = {\n",
        "    \"model\":resnet,\n",
        "    \"device\": \"cuda\",\n",
        "    \"lr\": 1e-5,\n",
        "    \"batch_size\": 128,\n",
        "    \"num_workers\": 4,\n",
        "    \"epochs\": 20,\n",
        "    \"weight_decay\":0\n",
        "}\n"
      ],
      "execution_count": null,
      "outputs": []
    },
    {
      "cell_type": "code",
      "metadata": {
        "colab": {
          "base_uri": "https://localhost:8080/"
        },
        "id": "OdHXadKT_JFk",
        "outputId": "f2037a21-f1bb-4568-a80c-1bf8fe671801"
      },
      "source": [
        "\n",
        "# Create and Train a model\n",
        "model = create_model(params)\n",
        "model, stat = train_and_validate(model, train_dataset, validation_dataset, params, class_weights)\n"
      ],
      "execution_count": null,
      "outputs": [
        {
          "output_type": "stream",
          "text": [
            "Epoch: 0, Tr_Loss: 0.3809017570793326, Tr_Acc: 88.04991539763114\n",
            "Epoch: 0, Val_Loss: 0.4460820925820701, Val_Acc: 86.80203045685279\n",
            "Epoch: 1, Tr_Loss: 0.18294337361597168, Tr_Acc: 92.76649746192894\n",
            "Epoch: 1, Val_Loss: 0.12884419276528755, Val_Acc: 96.1082910321489\n",
            "Epoch: 2, Tr_Loss: 0.13995241185937032, Tr_Acc: 94.9238578680203\n",
            "Epoch: 2, Val_Loss: 0.11312479136256397, Val_Acc: 96.27749576988155\n",
            "Epoch: 3, Tr_Loss: 0.1145672190512094, Tr_Acc: 96.17174280879864\n",
            "Epoch: 3, Val_Loss: 0.09146080182490211, Val_Acc: 97.46192893401015\n",
            "Epoch: 4, Tr_Loss: 0.09621645532888809, Tr_Acc: 96.9331641285956\n",
            "Epoch: 4, Val_Loss: 0.08076065384141483, Val_Acc: 97.12351945854483\n",
            "Epoch: 5, Tr_Loss: 0.08541431636021625, Tr_Acc: 97.25042301184433\n",
            "Epoch: 5, Val_Loss: 0.07413570010520884, Val_Acc: 97.6311336717428\n",
            "Epoch: 6, Tr_Loss: 0.07007209151075576, Tr_Acc: 97.60998307952623\n",
            "Epoch: 6, Val_Loss: 0.07024371516835669, Val_Acc: 97.96954314720813\n",
            "Epoch: 7, Tr_Loss: 0.06028185048583397, Tr_Acc: 98.3502538071066\n",
            "Epoch: 7, Val_Loss: 0.06835401996138132, Val_Acc: 97.96954314720813\n",
            "Epoch: 8, Tr_Loss: 0.0602409918989526, Tr_Acc: 98.22335025380711\n",
            "Epoch: 8, Val_Loss: 0.06837360475168212, Val_Acc: 97.96954314720813\n",
            "Epoch: 9, Tr_Loss: 0.05878287848784839, Tr_Acc: 98.45600676818951\n",
            "Epoch: 9, Val_Loss: 0.06789863649156896, Val_Acc: 97.96954314720813\n",
            "Epoch: 10, Tr_Loss: 0.05878466266237338, Tr_Acc: 98.49830795262267\n",
            "Epoch: 10, Val_Loss: 0.0667545738080028, Val_Acc: 97.96954314720813\n",
            "Epoch: 11, Tr_Loss: 0.05519851561881564, Tr_Acc: 98.62521150592217\n",
            "Epoch: 11, Val_Loss: 0.06871756181347793, Val_Acc: 97.80033840947547\n",
            "Epoch: 12, Tr_Loss: 0.055734516734449596, Tr_Acc: 98.62521150592217\n",
            "Epoch: 12, Val_Loss: 0.06738388384558425, Val_Acc: 97.80033840947547\n",
            "Epoch: 13, Tr_Loss: 0.05698976451420744, Tr_Acc: 98.45600676818951\n",
            "Epoch: 13, Val_Loss: 0.06840547791945349, Val_Acc: 97.29272419627749\n",
            "Epoch: 14, Tr_Loss: 0.053363415133680786, Tr_Acc: 98.582910321489\n",
            "Epoch: 14, Val_Loss: 0.06680154627702764, Val_Acc: 97.80033840947547\n",
            "Epoch: 15, Tr_Loss: 0.05471485422675178, Tr_Acc: 98.582910321489\n",
            "Epoch: 15, Val_Loss: 0.06529771574408876, Val_Acc: 97.96954314720813\n",
            "Epoch: 16, Tr_Loss: 0.055163705743559326, Tr_Acc: 98.56175972927242\n",
            "Epoch: 16, Val_Loss: 0.06520588779207413, Val_Acc: 97.96954314720813\n",
            "Epoch: 17, Tr_Loss: 0.053512122261443515, Tr_Acc: 98.77326565143824\n",
            "Epoch: 17, Val_Loss: 0.06759095164220749, Val_Acc: 97.80033840947547\n",
            "Epoch: 18, Tr_Loss: 0.055756974045042255, Tr_Acc: 98.4771573604061\n",
            "Epoch: 18, Val_Loss: 0.06630092851704147, Val_Acc: 97.80033840947547\n",
            "Epoch: 19, Tr_Loss: 0.05456880592881322, Tr_Acc: 98.62521150592217\n",
            "Epoch: 19, Val_Loss: 0.06446715739324008, Val_Acc: 97.96954314720813\n"
          ],
          "name": "stdout"
        }
      ]
    },
    {
      "cell_type": "code",
      "metadata": {
        "id": "uP_rYoSqL_FQ"
      },
      "source": [
        "# Save the model weights\n",
        "torch.save(model.state_dict(), './ResNet_Binary.ckpt')"
      ],
      "execution_count": null,
      "outputs": []
    },
    {
      "cell_type": "markdown",
      "metadata": {
        "id": "o4lxNTiR0KZr"
      },
      "source": [
        "Training Statistics"
      ]
    },
    {
      "cell_type": "code",
      "metadata": {
        "colab": {
          "base_uri": "https://localhost:8080/",
          "height": 295
        },
        "id": "-hr7sX5L_MFn",
        "outputId": "850c2620-152f-4d49-c94c-f2683578475c"
      },
      "source": [
        "tr_loss = stat['tr_loss']\n",
        "val_loss = stat['val_loss']\n",
        "plt.plot(val_loss, label='Validation')\n",
        "plt.plot(tr_loss, label='Training')\n",
        "plt.title('Loss vs Epoch Graph')\n",
        "plt.xlabel('Epoch')\n",
        "plt.ylabel('Accuracy')\n",
        "plt.legend()\n",
        "plt.show()\n",
        "#plt.savefig('./Acc_Custom.png')\n",
        "#print('Last Validation Accuracy:', val_loss[-1])"
      ],
      "execution_count": null,
      "outputs": [
        {
          "output_type": "display_data",
          "data": {
            "image/png": "[encoded data removed]",
            "text/plain": [
              "<Figure size 432x288 with 1 Axes>"
            ]
          },
          "metadata": {
            "tags": [],
            "needs_background": "light"
          }
        }
      ]
    }
  ]
}